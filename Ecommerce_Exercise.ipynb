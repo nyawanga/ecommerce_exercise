{
 "cells": [
  {
   "cell_type": "markdown",
   "metadata": {},
   "source": [
    "# Ecommerce Purchases Exercise\n",
    "\n",
    "    In this notebook Fake Data about some purchases done through Amazon! is used.\n",
    "\n",
    "    Please excuse anything that doesn't make \"Real-World\" sense in the dataframe, all the data is made-up. 😎\n",
    "\n",
    "    The Data is imported from an Ecommerce Purchases csv file and set it to a DataFrame called ecom. **"
   ]
  },
  {
   "cell_type": "code",
   "execution_count": 40,
   "metadata": {},
   "outputs": [
    {
     "data": {
      "text/html": [
       "<div>\n",
       "<style scoped>\n",
       "    .dataframe tbody tr th:only-of-type {\n",
       "        vertical-align: middle;\n",
       "    }\n",
       "\n",
       "    .dataframe tbody tr th {\n",
       "        vertical-align: top;\n",
       "    }\n",
       "\n",
       "    .dataframe thead th {\n",
       "        text-align: right;\n",
       "    }\n",
       "</style>\n",
       "<table border=\"1\" class=\"dataframe\">\n",
       "  <thead>\n",
       "    <tr style=\"text-align: right;\">\n",
       "      <th></th>\n",
       "      <th>Address</th>\n",
       "      <th>Lot</th>\n",
       "      <th>AM or PM</th>\n",
       "      <th>Browser Info</th>\n",
       "      <th>Company</th>\n",
       "      <th>Credit Card</th>\n",
       "      <th>CC Exp Date</th>\n",
       "      <th>CC Security Code</th>\n",
       "      <th>CC Provider</th>\n",
       "      <th>Email</th>\n",
       "      <th>Job</th>\n",
       "      <th>IP Address</th>\n",
       "      <th>Language</th>\n",
       "      <th>Purchase Price</th>\n",
       "    </tr>\n",
       "  </thead>\n",
       "  <tbody>\n",
       "    <tr>\n",
       "      <th>0</th>\n",
       "      <td>16629 Pace Camp Apt. 448\\nAlexisborough, NE 77...</td>\n",
       "      <td>46 in</td>\n",
       "      <td>PM</td>\n",
       "      <td>Opera/9.56.(X11; Linux x86_64; sl-SI) Presto/2...</td>\n",
       "      <td>Martinez-Herman</td>\n",
       "      <td>6011929061123406</td>\n",
       "      <td>02/20</td>\n",
       "      <td>900</td>\n",
       "      <td>JCB 16 digit</td>\n",
       "      <td>pdunlap@yahoo.com</td>\n",
       "      <td>Scientist, product/process development</td>\n",
       "      <td>149.146.147.205</td>\n",
       "      <td>el</td>\n",
       "      <td>98.14</td>\n",
       "    </tr>\n",
       "    <tr>\n",
       "      <th>1</th>\n",
       "      <td>9374 Jasmine Spurs Suite 508\\nSouth John, TN 8...</td>\n",
       "      <td>28 rn</td>\n",
       "      <td>PM</td>\n",
       "      <td>Opera/8.93.(Windows 98; Win 9x 4.90; en-US) Pr...</td>\n",
       "      <td>Fletcher, Richards and Whitaker</td>\n",
       "      <td>3337758169645356</td>\n",
       "      <td>11/18</td>\n",
       "      <td>561</td>\n",
       "      <td>Mastercard</td>\n",
       "      <td>anthony41@reed.com</td>\n",
       "      <td>Drilling engineer</td>\n",
       "      <td>15.160.41.51</td>\n",
       "      <td>fr</td>\n",
       "      <td>70.73</td>\n",
       "    </tr>\n",
       "    <tr>\n",
       "      <th>2</th>\n",
       "      <td>Unit 0065 Box 5052\\nDPO AP 27450</td>\n",
       "      <td>94 vE</td>\n",
       "      <td>PM</td>\n",
       "      <td>Mozilla/5.0 (compatible; MSIE 9.0; Windows NT ...</td>\n",
       "      <td>Simpson, Williams and Pham</td>\n",
       "      <td>675957666125</td>\n",
       "      <td>08/19</td>\n",
       "      <td>699</td>\n",
       "      <td>JCB 16 digit</td>\n",
       "      <td>amymiller@morales-harrison.com</td>\n",
       "      <td>Customer service manager</td>\n",
       "      <td>132.207.160.22</td>\n",
       "      <td>de</td>\n",
       "      <td>0.95</td>\n",
       "    </tr>\n",
       "    <tr>\n",
       "      <th>3</th>\n",
       "      <td>7780 Julia Fords\\nNew Stacy, WA 45798</td>\n",
       "      <td>36 vm</td>\n",
       "      <td>PM</td>\n",
       "      <td>Mozilla/5.0 (Macintosh; Intel Mac OS X 10_8_0 ...</td>\n",
       "      <td>Williams, Marshall and Buchanan</td>\n",
       "      <td>6011578504430710</td>\n",
       "      <td>02/24</td>\n",
       "      <td>384</td>\n",
       "      <td>Discover</td>\n",
       "      <td>brent16@olson-robinson.info</td>\n",
       "      <td>Drilling engineer</td>\n",
       "      <td>30.250.74.19</td>\n",
       "      <td>es</td>\n",
       "      <td>78.04</td>\n",
       "    </tr>\n",
       "    <tr>\n",
       "      <th>4</th>\n",
       "      <td>23012 Munoz Drive Suite 337\\nNew Cynthia, TX 5...</td>\n",
       "      <td>20 IE</td>\n",
       "      <td>AM</td>\n",
       "      <td>Opera/9.58.(X11; Linux x86_64; it-IT) Presto/2...</td>\n",
       "      <td>Brown, Watson and Andrews</td>\n",
       "      <td>6011456623207998</td>\n",
       "      <td>10/25</td>\n",
       "      <td>678</td>\n",
       "      <td>Diners Club / Carte Blanche</td>\n",
       "      <td>christopherwright@gmail.com</td>\n",
       "      <td>Fine artist</td>\n",
       "      <td>24.140.33.94</td>\n",
       "      <td>es</td>\n",
       "      <td>77.82</td>\n",
       "    </tr>\n",
       "  </tbody>\n",
       "</table>\n",
       "</div>"
      ],
      "text/plain": [
       "                                             Address    Lot AM or PM  \\\n",
       "0  16629 Pace Camp Apt. 448\\nAlexisborough, NE 77...  46 in       PM   \n",
       "1  9374 Jasmine Spurs Suite 508\\nSouth John, TN 8...  28 rn       PM   \n",
       "2                   Unit 0065 Box 5052\\nDPO AP 27450  94 vE       PM   \n",
       "3              7780 Julia Fords\\nNew Stacy, WA 45798  36 vm       PM   \n",
       "4  23012 Munoz Drive Suite 337\\nNew Cynthia, TX 5...  20 IE       AM   \n",
       "\n",
       "                                        Browser Info  \\\n",
       "0  Opera/9.56.(X11; Linux x86_64; sl-SI) Presto/2...   \n",
       "1  Opera/8.93.(Windows 98; Win 9x 4.90; en-US) Pr...   \n",
       "2  Mozilla/5.0 (compatible; MSIE 9.0; Windows NT ...   \n",
       "3  Mozilla/5.0 (Macintosh; Intel Mac OS X 10_8_0 ...   \n",
       "4  Opera/9.58.(X11; Linux x86_64; it-IT) Presto/2...   \n",
       "\n",
       "                           Company       Credit Card CC Exp Date  \\\n",
       "0                  Martinez-Herman  6011929061123406       02/20   \n",
       "1  Fletcher, Richards and Whitaker  3337758169645356       11/18   \n",
       "2       Simpson, Williams and Pham      675957666125       08/19   \n",
       "3  Williams, Marshall and Buchanan  6011578504430710       02/24   \n",
       "4        Brown, Watson and Andrews  6011456623207998       10/25   \n",
       "\n",
       "   CC Security Code                  CC Provider  \\\n",
       "0               900                 JCB 16 digit   \n",
       "1               561                   Mastercard   \n",
       "2               699                 JCB 16 digit   \n",
       "3               384                     Discover   \n",
       "4               678  Diners Club / Carte Blanche   \n",
       "\n",
       "                            Email                                     Job  \\\n",
       "0               pdunlap@yahoo.com  Scientist, product/process development   \n",
       "1              anthony41@reed.com                       Drilling engineer   \n",
       "2  amymiller@morales-harrison.com                Customer service manager   \n",
       "3     brent16@olson-robinson.info                       Drilling engineer   \n",
       "4     christopherwright@gmail.com                             Fine artist   \n",
       "\n",
       "        IP Address Language  Purchase Price  \n",
       "0  149.146.147.205       el           98.14  \n",
       "1     15.160.41.51       fr           70.73  \n",
       "2   132.207.160.22       de            0.95  \n",
       "3     30.250.74.19       es           78.04  \n",
       "4     24.140.33.94       es           77.82  "
      ]
     },
     "execution_count": 40,
     "metadata": {},
     "output_type": "execute_result"
    }
   ],
   "source": [
    "import pandas as pd \n",
    "import numpy as np\n",
    "import matplotlib.pyplot as plt\n",
    "import seaborn as sns\n",
    "import squarify\n",
    "from datetime import datetime\n",
    "import altair as alt\n",
    "import re\n",
    "\n",
    "alt.renderers.enable(\"notebook\")\n",
    "\n",
    "ecom = pd.read_csv('Ecommerce Purchases')\n",
    "\n",
    "ecom.head()"
   ]
  },
  {
   "cell_type": "markdown",
   "metadata": {},
   "source": [
    "**Check the head of the DataFrame.**"
   ]
  },
  {
   "cell_type": "markdown",
   "metadata": {},
   "source": [
    "** How many rows and columns are there? **"
   ]
  },
  {
   "cell_type": "code",
   "execution_count": 41,
   "metadata": {},
   "outputs": [
    {
     "name": "stdout",
     "output_type": "stream",
     "text": [
      "<class 'pandas.core.frame.DataFrame'>\n",
      "RangeIndex: 10000 entries, 0 to 9999\n",
      "Data columns (total 14 columns):\n",
      "Address             10000 non-null object\n",
      "Lot                 10000 non-null object\n",
      "AM or PM            10000 non-null object\n",
      "Browser Info        10000 non-null object\n",
      "Company             10000 non-null object\n",
      "Credit Card         10000 non-null int64\n",
      "CC Exp Date         10000 non-null object\n",
      "CC Security Code    10000 non-null int64\n",
      "CC Provider         10000 non-null object\n",
      "Email               10000 non-null object\n",
      "Job                 10000 non-null object\n",
      "IP Address          10000 non-null object\n",
      "Language            10000 non-null object\n",
      "Purchase Price      10000 non-null float64\n",
      "dtypes: float64(1), int64(2), object(11)\n",
      "memory usage: 1.1+ MB\n"
     ]
    }
   ],
   "source": [
    "ecom.info()"
   ]
  },
  {
   "cell_type": "markdown",
   "metadata": {},
   "source": [
    "<div class = \"alert alert-success\">\n",
    "    Convert ecom['CC Exp Date'] column to datetime format\n",
    "</div>"
   ]
  },
  {
   "cell_type": "code",
   "execution_count": 47,
   "metadata": {},
   "outputs": [
    {
     "data": {
      "image/png": "[encoded data removed]",
      "text/plain": [
       "<Figure size 504x432 with 1 Axes>"
      ]
     },
     "metadata": {},
     "output_type": "display_data"
    }
   ],
   "source": [
    "#ecom['CC Exp Date'] = ecom['CC Exp Date'].apply(lambda x: datetime.strptime(x, \"%m/%y\"))\n",
    "\n",
    "exp_year = ecom['CC Exp Date'].dt.year\n",
    "\n",
    "exp_year_count = exp_year.value_counts()\n",
    "\n",
    "plt.figure(figsize=(7, 6))\n",
    "cmap = plt.get_cmap(\"Paired\")\n",
    "color = [cmap(i) for i in np.linspace(0, 1, len(exp_year_count.values))]\n",
    "\n",
    "ax = squarify.plot(sizes = exp_year_count.values, label= exp_year_count.index, color = color, value = exp_year_count.values)\n",
    "plt.title(\"CC Expiry Date by Year\")\n",
    "plt.axis(\"off\")\n",
    "plt.show()"
   ]
  },
  {
   "cell_type": "code",
   "execution_count": 22,
   "metadata": {},
   "outputs": [],
   "source": [
    "def limit_percentile(df, group_col=None, metric_col=None, op='count', alpha=0.5):\n",
    "    frame = ecom.groupby(group_col)[metric_col].agg(op).\\\n",
    "                        sort_values(ascending = False).fillna(value = 0).reset_index()\n",
    "    #get cummulative sum percentage\n",
    "    frame['perc'] = frame[metric_col].cumsum() / frame[metric_col].sum()\n",
    "    \n",
    "    #filter the values whose cummulative sum percent dont meet the alpha threshold\n",
    "    frame['new_label'] = frame[[group_col,'perc']].apply(lambda x: x[0] if(x[1] < alpha) else 'others', axis = 1)\n",
    "\n",
    "    frame = frame.groupby(\"new_label\")[metric_col].sum().\\\n",
    "                        sort_values(ascending = False).reset_index().fillna(value = 0)\n",
    "    \n",
    "    frame.rename(columns={metric_col: 'value'}, inplace = True)\n",
    "    return frame\n",
    "\n",
    "# limit_percentile(ecom, 'e_dom', 'Job', op = 'count', alpha=0.5)"
   ]
  },
  {
   "cell_type": "markdown",
   "metadata": {},
   "source": [
    "<div class=\"alert alert-success\">\n",
    "    ** What is the average Purchase Price? ** \n",
    "</div>"
   ]
  },
  {
   "cell_type": "code",
   "execution_count": 23,
   "metadata": {},
   "outputs": [
    {
     "data": {
      "text/plain": [
       "50.34730200000025"
      ]
     },
     "execution_count": 23,
     "metadata": {},
     "output_type": "execute_result"
    }
   ],
   "source": [
    "ecom['Purchase Price'].mean()"
   ]
  },
  {
   "cell_type": "markdown",
   "metadata": {},
   "source": [
    "<div class=\"alert alert-success\">\n",
    "    ** What were the highest and lowest purchase prices? **\n",
    "</div>"
   ]
  },
  {
   "cell_type": "code",
   "execution_count": 24,
   "metadata": {},
   "outputs": [
    {
     "data": {
      "text/plain": [
       "(99.99, 0.0)"
      ]
     },
     "execution_count": 24,
     "metadata": {},
     "output_type": "execute_result"
    }
   ],
   "source": [
    "ecom['Purchase Price'].max(), ecom['Purchase Price'].min()"
   ]
  },
  {
   "cell_type": "markdown",
   "metadata": {},
   "source": [
    "<div class=\"alert alert-success\">\n",
    "    ** How many people have English 'en' as their Language of choice on the website? **\n",
    "</div>"
   ]
  },
  {
   "cell_type": "code",
   "execution_count": 25,
   "metadata": {},
   "outputs": [
    {
     "data": {
      "application/javascript": [
       "var spec = {\"config\": {\"view\": {\"width\": 400, \"height\": 300}}, \"layer\": [{\"data\": {\"name\": \"data-08318d367bcc1ccc8842d02f13ded8b7\"}, \"mark\": \"bar\", \"encoding\": {\"color\": {\"type\": \"nominal\", \"field\": \"index\", \"legend\": null}, \"x\": {\"type\": \"nominal\", \"axis\": {\"title\": \"Language\"}, \"field\": \"index\"}, \"y\": {\"type\": \"quantitative\", \"axis\": {\"title\": \"Count\"}, \"field\": \"Language\"}}}, {\"data\": {\"name\": \"data-08318d367bcc1ccc8842d02f13ded8b7\"}, \"mark\": {\"type\": \"text\", \"align\": \"center\", \"baseline\": \"bottom\", \"dx\": 3}, \"encoding\": {\"color\": {\"type\": \"nominal\", \"field\": \"index\", \"legend\": null}, \"text\": {\"type\": \"quantitative\", \"field\": \"Language\"}, \"x\": {\"type\": \"nominal\", \"axis\": {\"title\": \"Language\"}, \"field\": \"index\"}, \"y\": {\"type\": \"quantitative\", \"axis\": {\"title\": \"Count\"}, \"field\": \"Language\"}}}], \"height\": 200, \"width\": 400, \"$schema\": \"https://vega.github.io/schema/vega-lite/v2.6.0.json\", \"datasets\": {\"data-08318d367bcc1ccc8842d02f13ded8b7\": [{\"index\": \"ru\", \"Language\": 1155}, {\"index\": \"de\", \"Language\": 1155}, {\"index\": \"el\", \"Language\": 1137}, {\"index\": \"pt\", \"Language\": 1118}, {\"index\": \"en\", \"Language\": 1098}, {\"index\": \"fr\", \"Language\": 1097}, {\"index\": \"es\", \"Language\": 1095}, {\"index\": \"it\", \"Language\": 1086}, {\"index\": \"zh\", \"Language\": 1059}]}};\n",
       "var opt = {};\n",
       "var type = \"vega-lite\";\n",
       "var id = \"f70812ce-4d12-45ed-8403-053b941dd612\";\n",
       "\n",
       "var output_area = this;\n",
       "\n",
       "require([\"nbextensions/jupyter-vega/index\"], function(vega) {\n",
       "  var target = document.createElement(\"div\");\n",
       "  target.id = id;\n",
       "  target.className = \"vega-embed\";\n",
       "\n",
       "  var style = document.createElement(\"style\");\n",
       "  style.textContent = [\n",
       "    \".vega-embed .error p {\",\n",
       "    \"  color: firebrick;\",\n",
       "    \"  font-size: 14px;\",\n",
       "    \"}\",\n",
       "  ].join(\"\\\\n\");\n",
       "\n",
       "  // element is a jQuery wrapped DOM element inside the output area\n",
       "  // see http://ipython.readthedocs.io/en/stable/api/generated/\\\n",
       "  // IPython.display.html#IPython.display.Javascript.__init__\n",
       "  element[0].appendChild(target);\n",
       "  element[0].appendChild(style);\n",
       "\n",
       "  vega.render(\"#\" + id, spec, type, opt, output_area);\n",
       "}, function (err) {\n",
       "  if (err.requireType !== \"scripterror\") {\n",
       "    throw(err);\n",
       "  }\n",
       "});\n"
      ],
      "text/plain": [
       "<vega.vegalite.VegaLite at 0x7f8f27efbda0>"
      ]
     },
     "metadata": {
      "jupyter-vega": "#f70812ce-4d12-45ed-8403-053b941dd612"
     },
     "output_type": "display_data"
    },
    {
     "data": {
      "text/plain": []
     },
     "execution_count": 25,
     "metadata": {},
     "output_type": "execute_result"
    },
    {
     "data": {
      "image/png": "[encoded data removed]"
     },
     "metadata": {
      "jupyter-vega": "#f70812ce-4d12-45ed-8403-053b941dd612"
     },
     "output_type": "display_data"
    }
   ],
   "source": [
    "lang = ecom['Language'].value_counts().to_frame().reset_index()\n",
    "\n",
    "bars = alt.Chart(lang).mark_bar().encode(\n",
    "    x = alt.X('index', axis = alt.Axis(title='Language') ),\n",
    "    y = alt.Y('Language', axis = alt.Axis(title='Count') ),\n",
    "    color = alt.Color('index', legend = None)\n",
    ")\n",
    "text = bars.mark_text(\n",
    "    align = 'center',\n",
    "    baseline = 'bottom',\n",
    "    dx = 3\n",
    ").encode(\n",
    "    text = 'Language')\n",
    "(bars + text).properties(width = 400, height = 200)\n"
   ]
  },
  {
   "cell_type": "markdown",
   "metadata": {},
   "source": [
    "<div class=\"alert alert-success\">\n",
    "    ** How many people have the job title of \"Lawyer\" ? ** 👨🏾‍⚖️\n",
    "</div>"
   ]
  },
  {
   "cell_type": "code",
   "execution_count": 26,
   "metadata": {},
   "outputs": [
    {
     "data": {
      "text/plain": [
       "30"
      ]
     },
     "execution_count": 26,
     "metadata": {},
     "output_type": "execute_result"
    }
   ],
   "source": [
    "sum(ecom['Job'] == 'Lawyer')"
   ]
  },
  {
   "cell_type": "markdown",
   "metadata": {},
   "source": [
    "<div class=\"alert alert-success\">\n",
    "    <p>** How many people made the purchase during the AM ☀️ and how many people made the purchase during PM 🌤? **</p> \n",
    "\n",
    "   <p>**(Hint: Check out [value_counts()](http://pandas.pydata.org/pandas-docs/stable/generated/pandas.Series.value_counts.html) ) **</p>\n",
    "</div>"
   ]
  },
  {
   "cell_type": "code",
   "execution_count": 27,
   "metadata": {},
   "outputs": [
    {
     "data": {
      "image/png": "[encoded data removed]",
      "text/plain": [
       "<Figure size 360x360 with 1 Axes>"
      ]
     },
     "metadata": {},
     "output_type": "display_data"
    }
   ],
   "source": [
    "am_pm = ecom['AM or PM'].value_counts()\n",
    "explode = (0.01, 0.01)\n",
    "\n",
    "plt.figure(figsize=(5,5))\n",
    "plt.pie(x = am_pm.values, labels = am_pm.index, autopct = '%.1f%%', explode = explode,\n",
    "        startangle = 125, textprops = {'color':\"black\", \"fontsize\":12})\n",
    "plt.axis(\"equal\")\n",
    "plt.title(\"Purchase Time of Day\")\n",
    "plt.show()"
   ]
  },
  {
   "cell_type": "markdown",
   "metadata": {},
   "source": [
    "<div class=\"alert alert-success\">\n",
    "    \"What are the browsers being used during purchase?\n",
    "</div>"
   ]
  },
  {
   "cell_type": "code",
   "execution_count": 28,
   "metadata": {},
   "outputs": [
    {
     "data": {
      "image/png": "[encoded data removed]",
      "text/plain": [
       "<Figure size 360x360 with 1 Axes>"
      ]
     },
     "metadata": {},
     "output_type": "display_data"
    }
   ],
   "source": [
    "#apply(lambda x: re.search(r\"(?P<browser>\\w+)(:?\\/.*\\;)(?P<os>.*)(:?\\;)\", x).group(\"browser\") )\n",
    "\n",
    "def get_browser(x):\n",
    "    try:\n",
    "        search = re.search(r\"(?P<browser>[\\w+\\/\\d+\\.]+)(:?[\\(|\\s].*)\", x)\n",
    "        browser = search.group(\"browser\").strip().rstrip(\".\")\n",
    "        return browser\n",
    "    except AttributeError as e:\n",
    "        return x\n",
    "        \n",
    "ecom['browser'] = ecom['Browser Info'].apply(get_browser)\n",
    "\n",
    "browsers_main = ecom['browser'].apply(lambda x: \n",
    "                                      re.search(r\"(?P<pre>.*)(:?\\.)\", x).group(\"pre\")).value_counts()\n",
    "\n",
    "explode = [0.05, 0.05, 0.05]\n",
    "plt.figure(figsize = (5, 5))\n",
    "plt.pie(x = browsers_main.values, labels = browsers_main.index, autopct= \"%.1f%%\",\n",
    "        explode = explode,startangle = 45, textprops={\"color\":\"black\", \"fontsize\":12})\n",
    "plt.axis(\"equal\")\n",
    "plt.title(\"Main Browsers Used in Purchase\")\n",
    "plt.show()"
   ]
  },
  {
   "cell_type": "markdown",
   "metadata": {},
   "source": [
    "<div class=\"alert alert-success\">\n",
    "** What are the 10 most common Job Titles? ** 🕵🏿 👩🏿‍⚕️👮🏿 👷🏿‍♀️👨🏿‍✈️ 👩🏿‍🚀\n",
    "</div>"
   ]
  },
  {
   "cell_type": "code",
   "execution_count": 29,
   "metadata": {},
   "outputs": [
    {
     "data": {
      "text/plain": [
       "Interior and spatial designer        31\n",
       "Lawyer                               30\n",
       "Social researcher                    28\n",
       "Purchasing manager                   27\n",
       "Research officer, political party    27\n",
       "Designer, jewellery                  27\n",
       "Special educational needs teacher    26\n",
       "Social worker                        26\n",
       "Dietitian                            26\n",
       "Charity fundraiser                   26\n",
       "Name: Job, dtype: int64"
      ]
     },
     "execution_count": 29,
     "metadata": {},
     "output_type": "execute_result"
    }
   ],
   "source": [
    "ecom['Job'].value_counts().head(10)"
   ]
  },
  {
   "cell_type": "markdown",
   "metadata": {},
   "source": [
    "<div class=\"alert alert-success\">\n",
    "    ** Someone made a purchase that came from Lot: \"90 WT\" , what was the Purchase Price for this transaction? **\n",
    "</div>"
   ]
  },
  {
   "cell_type": "code",
   "execution_count": 30,
   "metadata": {},
   "outputs": [
    {
     "data": {
      "text/plain": [
       "513    75.1\n",
       "Name: Purchase Price, dtype: float64"
      ]
     },
     "execution_count": 30,
     "metadata": {},
     "output_type": "execute_result"
    }
   ],
   "source": [
    "ecom[ecom['Lot']== \"90 WT\"]['Purchase Price']"
   ]
  },
  {
   "cell_type": "markdown",
   "metadata": {},
   "source": [
    "<div class=\"alert alert-success\">\n",
    "    ** What is the email of the person with the following Credit Card Number: 4926535242672853 **  🕵🏾\n",
    "</div>"
   ]
  },
  {
   "cell_type": "code",
   "execution_count": 31,
   "metadata": {},
   "outputs": [
    {
     "data": {
      "text/plain": [
       "1234    bondellen@williams-garza.com\n",
       "Name: Email, dtype: object"
      ]
     },
     "execution_count": 31,
     "metadata": {},
     "output_type": "execute_result"
    }
   ],
   "source": [
    "ecom[ecom['Credit Card']==4926535242672853]['Email']"
   ]
  },
  {
   "cell_type": "markdown",
   "metadata": {},
   "source": [
    "<div class=\"alert alert-success\">\n",
    "    ** How many people have American Express as their Credit Card Provider *and* made a purchase above $95 ?**\n",
    "</div>"
   ]
  },
  {
   "cell_type": "code",
   "execution_count": 32,
   "metadata": {},
   "outputs": [
    {
     "data": {
      "text/plain": [
       "Address             39\n",
       "Lot                 39\n",
       "AM or PM            39\n",
       "Browser Info        39\n",
       "Company             39\n",
       "Credit Card         39\n",
       "CC Exp Date         39\n",
       "CC Security Code    39\n",
       "CC Provider         39\n",
       "Email               39\n",
       "Job                 39\n",
       "IP Address          39\n",
       "Language            39\n",
       "Purchase Price      39\n",
       "browser             39\n",
       "dtype: int64"
      ]
     },
     "execution_count": 32,
     "metadata": {},
     "output_type": "execute_result"
    }
   ],
   "source": [
    "ecom[(ecom['CC Provider']==\"American Express\") & (ecom['Purchase Price'] > 95)].count()\n"
   ]
  },
  {
   "cell_type": "markdown",
   "metadata": {},
   "source": [
    "<div class=\"alert alert-success\">\n",
    "    ** Hard: What are the top 5 most popular email providers/hosts (e.g. gmail.com, yahoo.com, etc...) **\n",
    "</div>"
   ]
  },
  {
   "cell_type": "code",
   "execution_count": 33,
   "metadata": {},
   "outputs": [
    {
     "data": {
      "application/javascript": [
       "var spec = {\"config\": {\"view\": {\"width\": 400, \"height\": 300}}, \"layer\": [{\"data\": {\"name\": \"data-fda93f043b348a422f28dc72a4349591\"}, \"mark\": {\"type\": \"bar\", \"color\": \"orange\"}, \"encoding\": {\"color\": {\"type\": \"nominal\", \"field\": \"new_label\", \"legend\": {\"orient\": \"right\", \"title\": \"domains\"}}, \"order\": {\"type\": \"quantitative\", \"field\": \"value\", \"sort\": \"ascending\"}, \"x\": {\"type\": \"quantitative\", \"field\": \"value\"}, \"y\": {\"type\": \"nominal\", \"axis\": {\"title\": \"email domain\"}, \"field\": \"new_label\"}}}, {\"data\": {\"name\": \"data-fda93f043b348a422f28dc72a4349591\"}, \"mark\": {\"type\": \"text\", \"align\": \"left\", \"baseline\": \"middle\", \"dx\": 3}, \"encoding\": {\"color\": {\"type\": \"nominal\", \"field\": \"new_label\", \"legend\": {\"orient\": \"right\", \"title\": \"domains\"}}, \"order\": {\"type\": \"quantitative\", \"field\": \"value\", \"sort\": \"ascending\"}, \"text\": {\"type\": \"quantitative\", \"field\": \"value\"}, \"x\": {\"type\": \"quantitative\", \"field\": \"value\"}, \"y\": {\"type\": \"nominal\", \"axis\": {\"title\": \"email domain\"}, \"field\": \"new_label\"}}}], \"height\": 200, \"width\": 400, \"$schema\": \"https://vega.github.io/schema/vega-lite/v2.6.0.json\", \"datasets\": {\"data-fda93f043b348a422f28dc72a4349591\": [{\"new_label\": \"others\", \"value\": 5004}, {\"new_label\": \"hotmail.com\", \"value\": 1638}, {\"new_label\": \"yahoo.com\", \"value\": 1616}, {\"new_label\": \"gmail.com\", \"value\": 1605}, {\"new_label\": \"smith.com\", \"value\": 42}, {\"new_label\": \"williams.com\", \"value\": 37}, {\"new_label\": \"johnson.com\", \"value\": 29}, {\"new_label\": \"brown.com\", \"value\": 29}]}};\n",
       "var opt = {};\n",
       "var type = \"vega-lite\";\n",
       "var id = \"fe478471-8457-4c7e-b868-e0ffc15241da\";\n",
       "\n",
       "var output_area = this;\n",
       "\n",
       "require([\"nbextensions/jupyter-vega/index\"], function(vega) {\n",
       "  var target = document.createElement(\"div\");\n",
       "  target.id = id;\n",
       "  target.className = \"vega-embed\";\n",
       "\n",
       "  var style = document.createElement(\"style\");\n",
       "  style.textContent = [\n",
       "    \".vega-embed .error p {\",\n",
       "    \"  color: firebrick;\",\n",
       "    \"  font-size: 14px;\",\n",
       "    \"}\",\n",
       "  ].join(\"\\\\n\");\n",
       "\n",
       "  // element is a jQuery wrapped DOM element inside the output area\n",
       "  // see http://ipython.readthedocs.io/en/stable/api/generated/\\\n",
       "  // IPython.display.html#IPython.display.Javascript.__init__\n",
       "  element[0].appendChild(target);\n",
       "  element[0].appendChild(style);\n",
       "\n",
       "  vega.render(\"#\" + id, spec, type, opt, output_area);\n",
       "}, function (err) {\n",
       "  if (err.requireType !== \"scripterror\") {\n",
       "    throw(err);\n",
       "  }\n",
       "});\n"
      ],
      "text/plain": [
       "<vega.vegalite.VegaLite at 0x7f8f1de5afd0>"
      ]
     },
     "metadata": {
      "jupyter-vega": "#fe478471-8457-4c7e-b868-e0ffc15241da"
     },
     "output_type": "display_data"
    },
    {
     "data": {
      "image/png": "[encoded data removed]"
     },
     "metadata": {
      "jupyter-vega": "#fe478471-8457-4c7e-b868-e0ffc15241da"
     },
     "output_type": "display_data"
    },
    {
     "data": {
      "text/plain": []
     },
     "execution_count": 33,
     "metadata": {},
     "output_type": "execute_result"
    }
   ],
   "source": [
    "ecom['e_dom'] = ecom['Email'].apply(lambda email: email.split('@')[1])\n",
    "domains = limit_percentile(ecom, 'e_dom', 'Job', op = 'count', alpha=0.5)\n",
    "domains\n",
    "\n",
    "bars = alt.Chart(domains).mark_bar(color = 'orange').encode(\n",
    "    x = alt.X('value'),\n",
    "    y = alt.Y('new_label', axis = alt.Axis(title='email domain')),\n",
    "    order = alt.Order('value', sort = 'ascending'),\n",
    "    color = alt.Color('new_label', legend = alt.Legend(title = 'domains', orient = 'right'))\n",
    "    \n",
    "    )\n",
    "text = bars.mark_text(\n",
    "    align = 'left',\n",
    "    baseline = 'middle',\n",
    "    dx = 3).encode(\n",
    "    text = 'value')\n",
    "(bars + text).properties(width = 400, height = 200)"
   ]
  },
  {
   "cell_type": "markdown",
   "metadata": {},
   "source": [
    "# Great Job! 👨🏼‍🎤"
   ]
  },
  {
   "cell_type": "code",
   "execution_count": 34,
   "metadata": {},
   "outputs": [],
   "source": [
    "# from vega_datasets import data\n",
    "\n",
    "# source = data.cars()\n",
    "\n",
    "# # Configure common options\n",
    "# base = alt.Chart(source)\n",
    "# scale = alt.Scale(paddingInner=0)\n",
    "\n",
    "# # Configure heatmap\n",
    "# heatmap = base.mark_rect().encode(\n",
    "#     alt.X('Cylinders:O', scale=scale),\n",
    "#     alt.Y('Origin:O', scale=scale),\n",
    "#     color='count()'\n",
    "# )\n",
    "# # Configure text\n",
    "# text = base.mark_text(baseline='middle').encode(\n",
    "#     x='Cylinders:O',\n",
    "#     y='Origin:O',\n",
    "#     text='count()',\n",
    "#     color=alt.condition(\n",
    "#         alt.datum['count_*'] > 100,\n",
    "#         alt.value('red'),\n",
    "#         alt.value('white')\n",
    "#     )\n",
    "# )\n",
    "# (heatmap + text)"
   ]
  }
 ],
 "metadata": {
  "kernelspec": {
   "display_name": "Python [default]",
   "language": "python",
   "name": "python3"
  },
  "language_info": {
   "codemirror_mode": {
    "name": "ipython",
    "version": 3
   },
   "file_extension": ".py",
   "mimetype": "text/x-python",
   "name": "python",
   "nbconvert_exporter": "python",
   "pygments_lexer": "ipython3",
   "version": "3.6.4"
  }
 },
 "nbformat": 4,
 "nbformat_minor": 1
}
